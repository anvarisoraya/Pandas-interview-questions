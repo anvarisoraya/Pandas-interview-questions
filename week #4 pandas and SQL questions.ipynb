{
 "cells": [
  {
   "cell_type": "code",
   "execution_count": null,
   "id": "3049c7b9",
   "metadata": {},
   "outputs": [],
   "source": [
    "#WEEK 4"
   ]
  },
  {
   "cell_type": "code",
   "execution_count": null,
   "id": "ffff00d2",
   "metadata": {},
   "outputs": [],
   "source": [
    "#\"\"\"problem 1\"\"\"\n",
    "#We have a table with employees and their salaries, however, some of the records are old and contain outdated salary information. \n",
    "#Find the current salary of each employee assuming that salaries increase each year. \n",
    "#Output their id, first name, last name, department ID, and current salary. Order your list by employee ID in ascending order.\n",
    "\n",
    "\n",
    "#pandas solution\n",
    "import pandas as pd\n",
    "ms_employee_salary.groupby([\"first_name\",\"last_name\",\"id\",\"department_id\"])[\"salary\"].max()\n",
    "\n",
    "#SQL solution\n",
    "select id,first_name, last_name,department_id, max(salary) from ms_employee_salary\n",
    "group by id,first_name, last_name,department_id\n",
    "order by id asc"
   ]
  },
  {
   "cell_type": "code",
   "execution_count": null,
   "id": "b127bce0",
   "metadata": {},
   "outputs": [],
   "source": [
    "#\"\"\"problem 2\"\"\"\n",
    "#Find the number of rows for each review score earned by 'Hotel Arena'. \n",
    "#Output the hotel name (which should be 'Hotel Arena'), review score along with the corresponding number of rows with that score for the specified hotel.\n",
    "\n",
    "#pandas solution\n",
    "import pandas as pd\n",
    "df = hotel_reviews[hotel_reviews[\"hotel_name\"]==\"Hotel Arena\"]\n",
    "result = df[[\"reviewer_score\",\"hotel_name\"]].value_counts()\n",
    "\n",
    "#SQL solution\n",
    "select hotel_name, reviewer_score, count(reviewer_score) from hotel_reviews\n",
    "where hotel_name = 'Hotel Arena'\n",
    "group by hotel_name,reviewer_score;"
   ]
  },
  {
   "cell_type": "code",
   "execution_count": null,
   "id": "0e400274",
   "metadata": {},
   "outputs": [],
   "source": [
    "#\"\"\"problem 3\"\"\"\n",
    "#Write a query that will calculate the number of shipments per month. \n",
    "#The unique key for one shipment is a combination of shipment_id and sub_id. \n",
    "#Output the year_month in format YYYY-MM and the number of shipments in that month.\n",
    "\n",
    "\n",
    "#pandas solution\n",
    "import pandas as pd\n",
    "amazon_shipment[\"year_month\"] = amazon_shipment[\"shipment_date\"].dt.to_period('M').value_counts()\n",
    "\n",
    "#SQL solution\n",
    "select TO_CHAR(shipment_date, 'YYYY-MM') AS year_month, count(distinct (shipment_id, sub_id)) from amazon_shipment\n",
    "group by year_month;"
   ]
  },
  {
   "cell_type": "code",
   "execution_count": null,
   "id": "f925c29c",
   "metadata": {},
   "outputs": [],
   "source": [
    "#\"\"\"problem 4\"\"\"\n",
    "#Count the number of movies that Abigail Breslin nominated for oscar\n",
    "\n",
    "\n",
    "#pandas solution\n",
    "import pandas as pd\n",
    "df = oscar_nominees[oscar_nominees[\"nominee\"]==\"Abigail Breslin\"]\n",
    "df.movie.nunique()\n",
    "\n",
    "#SQL solution\n",
    "select count(*) from oscar_nominees\n",
    "where nominee = 'Abigail Breslin';"
   ]
  },
  {
   "cell_type": "code",
   "execution_count": null,
   "id": "2125cc7e",
   "metadata": {},
   "outputs": [],
   "source": [
    "#\"\"\"problem 5\"\"\"\n",
    "#Find the base pay for Police Captains\n",
    "\n",
    "\n",
    "#pandas solution\n",
    "import pandas as pd\n",
    "df = sf_public_salaries[(sf_public_salaries[\"jobtitle\"]==\"CAPTAIN III (POLICE DEPARTMENT)\")]\n",
    "df[[\"employeename\", \"basepay\"]]\n",
    "\n",
    "#SQL solution\n",
    "select employeename,basepay from sf_public_salaries\n",
    "where jobtitle='CAPTAIN III (POLICE DEPARTMENT)'; "
   ]
  }
 ],
 "metadata": {
  "kernelspec": {
   "display_name": "Python 3 (ipykernel)",
   "language": "python",
   "name": "python3"
  },
  "language_info": {
   "codemirror_mode": {
    "name": "ipython",
    "version": 3
   },
   "file_extension": ".py",
   "mimetype": "text/x-python",
   "name": "python",
   "nbconvert_exporter": "python",
   "pygments_lexer": "ipython3",
   "version": "3.11.5"
  }
 },
 "nbformat": 4,
 "nbformat_minor": 5
}
