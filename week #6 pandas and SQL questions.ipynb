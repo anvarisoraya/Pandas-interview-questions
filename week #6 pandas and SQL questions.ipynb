{
 "cells": [
  {
   "cell_type": "code",
   "execution_count": null,
   "id": "c2f05cc2",
   "metadata": {},
   "outputs": [],
   "source": [
    "#WEEK 5"
   ]
  },
  {
   "cell_type": "code",
   "execution_count": null,
   "id": "22355dce",
   "metadata": {},
   "outputs": [],
   "source": [
    "#\"\"\"problem 1\"\"\"\n",
    "#find the 5 most profitable products\n",
    "\n",
    "#pandas solution\n",
    "import pandas as pd\n",
    "\n",
    "online_orders = online_orders[online_orders[\"date\"].dt.month <=6]\n",
    "online_orders[\"total\"] = online_orders[\"cost_in_dollars\"] * online_orders[\"units_sold\"]\n",
    "online_orders.groupby(\"product_id\")[\"total\"].sum().nlargest(5)\n",
    "\n",
    "\n",
    "#SQL solution\n",
    "select product_id, sum(units_sold*cost_in_dollars) as total from online_orders\n",
    "group by product_id\n",
    "order by total DESC\n",
    "limit 5;"
   ]
  },
  {
   "cell_type": "code",
   "execution_count": null,
   "id": "6fb15b8a",
   "metadata": {},
   "outputs": [],
   "source": [
    "#\"\"\"problem 2\"\"\"\n",
    "#Find the 3 most profitable companies in the entire world. Output the result along with the corresponding company name.\n",
    "#Sort the result based on profits in descending order.\n",
    "\n",
    "#pandas solution\n",
    "import pandas as pd\n",
    "\n",
    "df = forbes_global_2010_2014[[\"company\",\"profits\"]].nlargest(3,\"profits\")\n",
    "\n",
    "\n",
    "#SQL solution\n",
    "select company, profits from forbes_global_2010_2014\n",
    "order by profits DESC\n",
    "limit 3;"
   ]
  },
  {
   "cell_type": "code",
   "execution_count": null,
   "id": "673ced35",
   "metadata": {},
   "outputs": [],
   "source": [
    "#\"\"\"problem 3\"\"\"\n",
    "#Calculate each user's average session time.\n",
    "\n",
    "#pandas solution\n",
    "import pandas as pd\n",
    "\n",
    "facebook_web_log['day'] = facebook_web_log['timestamp'].dt.date\n",
    "load = facebook_web_log[facebook_web_log[\"action\"] == \"page_load\"]\n",
    "exit = facebook_web_log[facebook_web_log[\"action\"] == \"page_exit\"]\n",
    "\n",
    "load = load.groupby(['user_id','day'],as_index = False).max()\n",
    "exit = exit.groupby(['user_id','day'],as_index = False).min()\n",
    "\n",
    "result = pd.merge(load,exit,how=\"left\",on=[\"user_id\",\"day\"])\n",
    "result = result[result[\"timestamp_x\"] < result[\"timestamp_y\"]]\n",
    "\n",
    "result['duration'] = (result['timestamp_y'] - result['timestamp_x']).dt.total_seconds()\n",
    "result.groupby('user_id',as_index=False).mean()\n",
    "\n",
    "\n",
    "\n",
    "#SQL solution\n",
    "with min_max as (select user_id,date(timestamp),\n",
    "max(case \n",
    "    when action = 'page_load' then timestamp\n",
    "    end) as pg_load,\n",
    "min(case \n",
    "    when action = 'page_exit' then timestamp\n",
    "    end)  as pg_exit\n",
    "from facebook_web_log group by 1,2)\n",
    "\n",
    "select user_id,avg(pg_exit-pg_load) as avg_session_time\n",
    "from min_max\n",
    "group by 1 having avg(pg_exit-pg_load) is not null ;"
   ]
  }
 ],
 "metadata": {
  "kernelspec": {
   "display_name": "Python 3 (ipykernel)",
   "language": "python",
   "name": "python3"
  },
  "language_info": {
   "codemirror_mode": {
    "name": "ipython",
    "version": 3
   },
   "file_extension": ".py",
   "mimetype": "text/x-python",
   "name": "python",
   "nbconvert_exporter": "python",
   "pygments_lexer": "ipython3",
   "version": "3.11.5"
  }
 },
 "nbformat": 4,
 "nbformat_minor": 5
}
