{
 "cells": [
  {
   "cell_type": "code",
   "execution_count": null,
   "id": "0be489b5",
   "metadata": {},
   "outputs": [],
   "source": [
    "#WEEK 2"
   ]
  },
  {
   "cell_type": "code",
   "execution_count": null,
   "id": "7cb88e1d",
   "metadata": {},
   "outputs": [],
   "source": [
    "#\"\"\"problem 1\"\"\"\n",
    "#Find matching hosts and guests pairs in a way that they are both of the same gender and nationality. Output the host id and the guest id of matched pair.\n",
    "#DataFrames: airbnb_hosts, airbnb_guests\n",
    "\n",
    "#pandas solution\n",
    "import pandas as pd\n",
    "\n",
    "merged = pd.merge(airbnb_hosts, airbnb_guests, how=\"left\", left_on=[\"gender\", \"nationality\"], right_on=[\"gender\", \"nationality\"])\n",
    "result = merged[[\"host_id\",\"guest_id\"]].drop_duplicates()\n",
    "\n",
    "#SQL solution\n",
    "select distinct(host_id,guest_id) from airbnb_hosts as h left join airbnb_guests as g\n",
    "on h.gender == g.gender AND h.nationality == g.nationality;"
   ]
  },
  {
   "cell_type": "code",
   "execution_count": null,
   "id": "6eacc29b",
   "metadata": {},
   "outputs": [],
   "source": [
    "#\"\"\"problem 2\"\"\"\n",
    "#Write a query that calculates the difference between the highest salaries found in the marketing and engineering departments. Output just the absolute difference in salaries.\n",
    "\n",
    "\n",
    "#pandas solution\n",
    "import pandas as pd\n",
    "\n",
    "df = pd.merge(db_employee, db_dept,how=\"left\", left_on = [\"department_id\"],\n",
    "right_on=[\"id\"]\n",
    ")\n",
    "\n",
    "salary_difference=df[df[\"department\"] == \"marketing\"][\"salary\"].max()-df[df[\"department\"] == \"engineering\"][\"salary\"].max()\n",
    "salary_difference\n",
    "\n",
    "#SQL solution\n",
    "select abs ((select max(db_employee.salary) from db_employee join db_dept\n",
    "on db_employee.department_id = db_dept.id\n",
    "where db_dept.department = 'engineering') -\n",
    "(select max(db_employee.salary) from db_employee join db_dept\n",
    "on db_employee.department_id = db_dept.id\n",
    "where db_dept.department = 'marketing'));"
   ]
  },
  {
   "cell_type": "code",
   "execution_count": null,
   "id": "6fab6d0b",
   "metadata": {},
   "outputs": [],
   "source": [
    "#\"\"\"problem 3\"\"\"\n",
    "#Find the review_text that received the highest number of  'cool' votes. Output the business name along with the review text with the highest numbef of 'cool' votes.\n",
    "#DataFrame: yelp_reviews\n",
    "\n",
    "#pandas solution\n",
    "import pandas as pd\n",
    "\n",
    "yelp_reviews = yelp_reviews[yelp_reviews[\"cool\"] == yelp_reviews[\"cool\"].max()]\n",
    "yelp_reviews[[\"business_name\",\"review_text\"]]\n",
    "\n",
    "#SQL solution\n",
    "select business_name,review_text from yelp_reviews\n",
    "where cool = (select max(cool) from yelp_reviews)"
   ]
  },
  {
   "cell_type": "code",
   "execution_count": null,
   "id": "97a23dfe",
   "metadata": {},
   "outputs": [],
   "source": [
    "#\"\"\"problem 4\"\"\"\n",
    "#Find the number of employees working in the Admin department that joined in April or later.\n",
    "#DataFrame: worker\n",
    "\n",
    "#pandas solution\n",
    "import pandas as pd\n",
    "\n",
    "df = worker\n",
    "df = df[(df[\"department\"] == \"Admin\") & (df[\"joining_date\"].dt.month >= 4)]\n",
    "result = df[\"worker_id\"].count()\n",
    "\n",
    "#SQL solution\n",
    "select count(worker_id) from worker\n",
    "where EXTRACT(month from joining_date) >= 4 \n",
    "and\n",
    "department = 'Admin';"
   ]
  },
  {
   "cell_type": "code",
   "execution_count": null,
   "id": "10c83805",
   "metadata": {},
   "outputs": [],
   "source": [
    "#\"\"\"problem 5\"\"\"\n",
    "#Find all Lyft drivers who earn either equal to or less than 30k USD or equal to or more than 70k USD.\n",
    "#Output all details related to retrieved records.\n",
    "\n",
    "#pandas solution\n",
    "import pandas as pd\n",
    "\n",
    "df = lyft_drivers\n",
    "df[(df[\"yearly_salary\"] > 70000) | (df[\"yearly_salary\"] <=30000)]\n",
    "\n",
    "#SQL solution\n",
    "select * from lyft_drivers\n",
    "where yearly_salary <= 30000 or yearly_salary >70000"
   ]
  }
 ],
 "metadata": {
  "kernelspec": {
   "display_name": "Python 3 (ipykernel)",
   "language": "python",
   "name": "python3"
  },
  "language_info": {
   "codemirror_mode": {
    "name": "ipython",
    "version": 3
   },
   "file_extension": ".py",
   "mimetype": "text/x-python",
   "name": "python",
   "nbconvert_exporter": "python",
   "pygments_lexer": "ipython3",
   "version": "3.11.5"
  }
 },
 "nbformat": 4,
 "nbformat_minor": 5
}
