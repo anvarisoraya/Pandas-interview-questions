{
 "cells": [
  {
   "cell_type": "code",
   "execution_count": null,
   "id": "8b05b701",
   "metadata": {},
   "outputs": [],
   "source": [
    "#WEEK 3"
   ]
  },
  {
   "cell_type": "code",
   "execution_count": null,
   "id": "0db036a9",
   "metadata": {},
   "outputs": [],
   "source": [
    "#\"\"\"problem 1\"\"\"\n",
    "#Find the top 5 businesses with most reviews. Assume that each row has a unique business_id such that the total reviews for each business is listed on each row. \n",
    "#Output the business name along with the total number of reviews and order your results by the total reviews in descending order.\n",
    "\n",
    "\n",
    "#pandas solution\n",
    "import pandas as pd\n",
    "yelp_business = yelp_business[[\"name\",\"review_count\"]].nlargest(5,\"review_count\")\n",
    "\n",
    "#SQL solution\n",
    "select name, review_count from yelp_business\n",
    "order by review_count DESC limit 5"
   ]
  },
  {
   "cell_type": "code",
   "execution_count": null,
   "id": "a94cc643",
   "metadata": {},
   "outputs": [],
   "source": [
    "#\"\"\"problem 2\"\"\"\n",
    "#Count the number of user events performed by MacBookPro users.\n",
    "#Output the result along with the event name.\n",
    "\n",
    "\n",
    "#pandas solution\n",
    "import pandas as pd\n",
    "df = playbook_events[[\"event_name\",\"device\"]]\n",
    "df = df[df[\"device\"] == \"macbook pro\"]\n",
    "df = df[\"event_name\"].value_counts()\n",
    "\n",
    "\n",
    "#SQL solution\n",
    "select event_name,count(event_name) as event_count from playbook_events\n",
    "where device='macbook pro'\n",
    "group by event_name\n",
    "order by event_count DESC"
   ]
  },
  {
   "cell_type": "code",
   "execution_count": null,
   "id": "943385fa",
   "metadata": {},
   "outputs": [],
   "source": [
    "#\"\"\"problem 3\"\"\"\n",
    "#Find the details of each customer regardless of whether the customer made an order. \n",
    "#Output the customer's first name, last name, and the city along with the order details.\n",
    "\n",
    "\n",
    "#pandas solution\n",
    "import pandas as pd\n",
    "merged = pd.merge(customers,orders, left_on='id', right_on='cust_id',how=\"left\")\n",
    "merged = merged[[\"first_name\",\"last_name\",\"city\",\"order_details\"]].sort_values(by=['first_name','order_details'])\n",
    "\n",
    "\n",
    "#SQL solution\n",
    "select first_name,last_name,city,order_details from customers\n",
    "left join orders\n",
    "on customers.id = orders.cust_id\n",
    "order by first_name,order_details;"
   ]
  },
  {
   "cell_type": "code",
   "execution_count": null,
   "id": "320149be",
   "metadata": {},
   "outputs": [],
   "source": [
    "#\"\"\"problem 4\"\"\"\n",
    "#Compare each employee's salary with the average salary of the corresponding department.\n",
    "\n",
    "\n",
    "#pandas solution\n",
    "import pandas as pd\n",
    "average_department_salary = employee.groupby('department')['salary'].transform('mean')\n",
    "employee['average_department_salary'] = average_department_salary\n",
    "result = employee[['department', 'first_name', 'salary', 'average_department_salary']]\n",
    "\n",
    "\n",
    "#SQL solution\n",
    "select department,first_name,salary,avg(salary) over (PARTITION BY department)\n",
    "from employee\n",
    "group by department,first_name,salary"
   ]
  },
  {
   "cell_type": "code",
   "execution_count": null,
   "id": "332c2466",
   "metadata": {},
   "outputs": [],
   "source": [
    "#\"\"\"problem 5\"\"\"\n",
    "#Compare each employee's salary with the average salary of the corresponding department.\n",
    "\n",
    "\n",
    "#pandas solution\n",
    "import pandas as pd\n",
    "spotify_worldwide_daily_song_ranking[[\"artist\"]].value_counts()\n",
    "\n",
    "#SQL solution\n",
    "select artist,count(artist) as c from spotify_worldwide_daily_song_ranking\n",
    "GROUP BY artist\n",
    "order by c DESC"
   ]
  }
 ],
 "metadata": {
  "kernelspec": {
   "display_name": "Python 3 (ipykernel)",
   "language": "python",
   "name": "python3"
  },
  "language_info": {
   "codemirror_mode": {
    "name": "ipython",
    "version": 3
   },
   "file_extension": ".py",
   "mimetype": "text/x-python",
   "name": "python",
   "nbconvert_exporter": "python",
   "pygments_lexer": "ipython3",
   "version": "3.11.5"
  }
 },
 "nbformat": 4,
 "nbformat_minor": 5
}
