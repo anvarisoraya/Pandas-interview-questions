{
 "cells": [
  {
   "cell_type": "code",
   "execution_count": null,
   "id": "b9172133",
   "metadata": {},
   "outputs": [],
   "source": [
    "#WEEK 1"
   ]
  },
  {
   "cell_type": "code",
   "execution_count": 1,
   "id": "da9db082",
   "metadata": {},
   "outputs": [],
   "source": [
    "#\"\"\"problem 1\"\"\"\n",
    "#Find the last time each bike was in use. Output both the bike number and the date-timestamp of the bike's last use (i.e., the date-time the bike was returned). Order the results by bikes that were most recently used.\n",
    "#DataFrame: dc_bikeshare_q1_2012\n",
    "\n",
    "#pandas solution\n",
    "import pandas as pd\n",
    "\n",
    "dc_bikeshare_q1_2012.head()\n",
    "dc_bikeshare_q1_2012.groupby(\"bike_number\")[\"end_time\"].max()\n",
    "\n",
    "#SQL solution\n",
    "select bike_number,max(end_time) from dc_bikeshare_q1_2012\n",
    "group by bike_number;"
   ]
  },
  {
   "cell_type": "code",
   "execution_count": null,
   "id": "75456851",
   "metadata": {},
   "outputs": [],
   "source": [
    "#\"\"\"problem 2\"\"\"\n",
    "#Find all posts which were reacted to with a heart. For such posts output all columns from facebook_posts table.\n",
    "#DataFrames: facebook_reactions, facebook_posts\n",
    "\n",
    "#pandas solution\n",
    "import pandas as pd\n",
    "\n",
    "heart = facebook_reactions[facebook_reactions[\"reaction\"] == \"heart\"][\"post_id\"].drop_duplicates()\n",
    "pd.merge(heart,facebook_posts, on=\"post_id\")\n",
    "\n",
    "#SQL solution\n",
    "select distinct p.* from facebook_reactions as r\n",
    "join facebook_posts as p\n",
    "on r.post_id = p.post_id\n",
    "WHERE r.reaction = 'heart'"
   ]
  },
  {
   "cell_type": "code",
   "execution_count": null,
   "id": "74118087",
   "metadata": {},
   "outputs": [],
   "source": [
    "#\"\"\"problem 3\"\"\"\n",
    "#Write a query that returns the number of unique users per client per month\n",
    "#Table: fact_events\n",
    "\n",
    "#pandas solution\n",
    "ans = fact_events.groupby(\n",
    "    [fact_events[\"client_id\"], fact_events[\"time_id\"].dt.month]\n",
    ")[\"user_id\"].nunique()\n",
    "\n",
    "#SQL solution\n",
    "select distinct(client_id),EXTRACT(MONTH FROM time_id) AS month,count(distinct(user_id)) as users_num from\n",
    "fact_events\n",
    "group by client_id,month\n",
    "order by client_id;"
   ]
  },
  {
   "cell_type": "code",
   "execution_count": null,
   "id": "b4ddd962",
   "metadata": {},
   "outputs": [],
   "source": [
    "#\"\"\"problem 4\"\"\"\n",
    "#Find the average number of bathrooms and bedrooms for each city’s property types. Output the result along with the city name and the property type.\n",
    "#Table: airbnb_search_details\n",
    "    \n",
    "#pandas solution\n",
    "import pandas as pd\n",
    "means = airbnb_search_details.groupby([\"city\", \"property_type\"])[[\"bathrooms\", \"bedrooms\"]].mean()\n",
    "means = means.reset_index()\n",
    "\n",
    "#SQL solution\n",
    "select city,property_type,avg(bathrooms),avg(bedrooms) from airbnb_search_details\n",
    "group by city,property_type;"
   ]
  },
  {
   "cell_type": "code",
   "execution_count": null,
   "id": "83cbc674",
   "metadata": {},
   "outputs": [],
   "source": [
    "#\"\"\"problem 5\"\"\"\n",
    "#Find the activity date and the pe_description of facilities with the name 'STREET CHURROS' and with a score of less than 95 points.\n",
    "#Table: los_angeles_restaurant_health_inspections\n",
    "\n",
    "#pandas solution\n",
    "df = los_angeles_restaurant_health_inspections[los_angeles_restaurant_health_inspections[\"facility_name\"]==\"STREET CHURROS\"]\n",
    "df = df[df[\"score\"] < 95]\n",
    "result = df[[\"activity_date\",\"pe_description\"]]\n",
    "\n",
    "#SQL solution\n",
    "select activity_date, pe_description from los_angeles_restaurant_health_inspections\n",
    "where facility_name='STREET CHURROS'\n",
    "AND score < 95;"
   ]
  }
 ],
 "metadata": {
  "kernelspec": {
   "display_name": "Python 3 (ipykernel)",
   "language": "python",
   "name": "python3"
  },
  "language_info": {
   "codemirror_mode": {
    "name": "ipython",
    "version": 3
   },
   "file_extension": ".py",
   "mimetype": "text/x-python",
   "name": "python",
   "nbconvert_exporter": "python",
   "pygments_lexer": "ipython3",
   "version": "3.11.5"
  }
 },
 "nbformat": 4,
 "nbformat_minor": 5
}
