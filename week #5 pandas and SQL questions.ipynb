{
 "cells": [
  {
   "cell_type": "code",
   "execution_count": null,
   "id": "756ef6ce",
   "metadata": {},
   "outputs": [],
   "source": [
    "#WEEK 5"
   ]
  },
  {
   "cell_type": "code",
   "execution_count": null,
   "id": "0c3305f2",
   "metadata": {},
   "outputs": [],
   "source": [
    "#\"\"\"problem 1\"\"\"\n",
    "#Find the Olympics with the highest number of athletes. The Olympics game is a combination of the year and the season, \n",
    "#and is found in the 'games' column. Output the Olympics along with the corresponding number of athletes.\n",
    "\n",
    "\n",
    "#pandas solution\n",
    "df = olympics_athletes_events.groupby([\"games\"])[\"id\"].nunique().reset_index().nlargest(1, 'id')\n",
    "\n",
    "#SQL solution\n",
    "select max(c) from ((select count(id) as c, games from olympics_athletes_events\n",
    "group_by(games))\n"
   ]
  },
  {
   "cell_type": "code",
   "execution_count": null,
   "id": "3e83a71c",
   "metadata": {},
   "outputs": [],
   "source": [
    "#\"\"\"problem 2\"\"\"\n",
    "#Find libraries who haven't provided the email address in circulation year 2016 but their notice preference definitionis set to email\n",
    "\n",
    "\n",
    "#pandas solution\n",
    "import pandas as pd\n",
    "\n",
    "df = library_usage[(library_usage[\"provided_email_address\"] == 0) & (library_usage[\"notice_preference_definition\"] == \"email\")][[\"home_library_code\"]]\n",
    "df[\"home_library_code\"].unique()\n",
    "\n",
    "#SQL solution\n",
    "select distinct(home_library_code) from library_usage\n",
    "where provided_email_address = FALSE \n",
    "AND\n",
    "notice_preference_definition = 'email';"
   ]
  },
  {
   "cell_type": "code",
   "execution_count": null,
   "id": "3765a0c6",
   "metadata": {},
   "outputs": [],
   "source": [
    "#\"\"\"problem 3\"\"\"\n",
    "#find workers by joining date after April\n",
    "\n",
    "#pandas solution\n",
    "import pandas as pd\n",
    "\n",
    "df= worker[worker[\"joining_date\"].dt.month>=4].groupby([\"department\"])['worker_id'].count().sort_values(ascending=False)\n",
    "\n",
    "#SQL solution\n",
    "select count(worker_id) as c, department from worker\n",
    "where EXTRACT(MONTH from joining_date) >=4\n",
    "group by department\n",
    "order by c desc"
   ]
  },
  {
   "cell_type": "code",
   "execution_count": null,
   "id": "cb0540b6",
   "metadata": {},
   "outputs": [],
   "source": [
    "#\"\"\"problem 4\"\"\"\n",
    "#Find the most profitable company in the financial sector of the entire world along with its continent\n",
    "\n",
    "#pandas solution\n",
    "import pandas as pd\n",
    "\n",
    "df = forbes_global_2010_2014\n",
    "df = df[(df[\"sector\"] == \"Financials\") & (df[\"profits\"] == df[\"profits\"].max())]\n",
    "df[[\"company\", \"continent\"]]\n",
    "\n",
    "\n",
    "#SQL solution\n",
    "select company,continent from forbes_global_2010_2014\n",
    "where profits = (select max(profits) from forbes_global_2010_2014)a"
   ]
  },
  {
   "cell_type": "code",
   "execution_count": null,
   "id": "9ad4511c",
   "metadata": {},
   "outputs": [],
   "source": [
    "#\"\"\"problem 5\"\"\"\n",
    "#What were the top 10 ranked songs in 2010?\n",
    "\n",
    "#pandas solution\n",
    "import pandas as pd\n",
    "\n",
    "# Start writing code\n",
    "df = billboard_top_100_year_end\n",
    "df = df[(df['year'] == 2010) & (df['year_rank'].between(1,10))]\n",
    "df[['year_rank', 'group_name' , 'song_name']].drop_duplicates()\n",
    "\n",
    "#SQL solution\n",
    "select year_rank, group_name, disticnt(song_name) from billboard_top_100_year_end\n",
    "where year = 2010 \n",
    "AND\n",
    "year_rank <=10"
   ]
  }
 ],
 "metadata": {
  "kernelspec": {
   "display_name": "Python 3 (ipykernel)",
   "language": "python",
   "name": "python3"
  },
  "language_info": {
   "codemirror_mode": {
    "name": "ipython",
    "version": 3
   },
   "file_extension": ".py",
   "mimetype": "text/x-python",
   "name": "python",
   "nbconvert_exporter": "python",
   "pygments_lexer": "ipython3",
   "version": "3.11.5"
  }
 },
 "nbformat": 4,
 "nbformat_minor": 5
}
